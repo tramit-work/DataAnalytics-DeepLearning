{
  "nbformat": 4,
  "nbformat_minor": 0,
  "metadata": {
    "colab": {
      "provenance": []
    },
    "kernelspec": {
      "name": "python3",
      "display_name": "Python 3"
    },
    "language_info": {
      "name": "python"
    }
  },
  "cells": [
    {
      "cell_type": "code",
      "source": [
        "import pandas as pd\n",
        "import numpy as np"
      ],
      "metadata": {
        "id": "nh4i-7s1uJEi"
      },
      "execution_count": 67,
      "outputs": []
    },
    {
      "cell_type": "markdown",
      "source": [
        "###Câu 1:"
      ],
      "metadata": {
        "id": "rmqq0FRttI9I"
      }
    },
    {
      "cell_type": "code",
      "execution_count": 68,
      "metadata": {
        "colab": {
          "base_uri": "https://localhost:8080/",
          "height": 206
        },
        "id": "fgBKH07FsNMG",
        "outputId": "d3bac735-f437-4026-b4ca-f33bc0b47c93"
      },
      "outputs": [
        {
          "output_type": "execute_result",
          "data": {
            "text/plain": [
              "    Id            Name   Age      Weight m0006 m0612 m1218 f0006 f0612 f1218\n",
              "0  2.0     Donald Duck  34.0   154.89lbs     -     -     -    85    84    76\n",
              "1  3.0      Mini Mouse  16.0         NaN     -     -     -    65    69    72\n",
              "2  4.0  Scrooge McDuck   NaN       78kgs    78    79    72     -     -     -\n",
              "3  5.0    Pink Panther  54.0  198.658lbs     -     -     -    69   NaN    75\n",
              "4  6.0     Huey McDuck  52.0      189lbs     -     -     -    68    75    72"
            ],
            "text/html": [
              "\n",
              "  <div id=\"df-8645e157-e068-4f50-970f-85fbec6f759d\" class=\"colab-df-container\">\n",
              "    <div>\n",
              "<style scoped>\n",
              "    .dataframe tbody tr th:only-of-type {\n",
              "        vertical-align: middle;\n",
              "    }\n",
              "\n",
              "    .dataframe tbody tr th {\n",
              "        vertical-align: top;\n",
              "    }\n",
              "\n",
              "    .dataframe thead th {\n",
              "        text-align: right;\n",
              "    }\n",
              "</style>\n",
              "<table border=\"1\" class=\"dataframe\">\n",
              "  <thead>\n",
              "    <tr style=\"text-align: right;\">\n",
              "      <th></th>\n",
              "      <th>Id</th>\n",
              "      <th>Name</th>\n",
              "      <th>Age</th>\n",
              "      <th>Weight</th>\n",
              "      <th>m0006</th>\n",
              "      <th>m0612</th>\n",
              "      <th>m1218</th>\n",
              "      <th>f0006</th>\n",
              "      <th>f0612</th>\n",
              "      <th>f1218</th>\n",
              "    </tr>\n",
              "  </thead>\n",
              "  <tbody>\n",
              "    <tr>\n",
              "      <th>0</th>\n",
              "      <td>2.0</td>\n",
              "      <td>Donald Duck</td>\n",
              "      <td>34.0</td>\n",
              "      <td>154.89lbs</td>\n",
              "      <td>-</td>\n",
              "      <td>-</td>\n",
              "      <td>-</td>\n",
              "      <td>85</td>\n",
              "      <td>84</td>\n",
              "      <td>76</td>\n",
              "    </tr>\n",
              "    <tr>\n",
              "      <th>1</th>\n",
              "      <td>3.0</td>\n",
              "      <td>Mini Mouse</td>\n",
              "      <td>16.0</td>\n",
              "      <td>NaN</td>\n",
              "      <td>-</td>\n",
              "      <td>-</td>\n",
              "      <td>-</td>\n",
              "      <td>65</td>\n",
              "      <td>69</td>\n",
              "      <td>72</td>\n",
              "    </tr>\n",
              "    <tr>\n",
              "      <th>2</th>\n",
              "      <td>4.0</td>\n",
              "      <td>Scrooge McDuck</td>\n",
              "      <td>NaN</td>\n",
              "      <td>78kgs</td>\n",
              "      <td>78</td>\n",
              "      <td>79</td>\n",
              "      <td>72</td>\n",
              "      <td>-</td>\n",
              "      <td>-</td>\n",
              "      <td>-</td>\n",
              "    </tr>\n",
              "    <tr>\n",
              "      <th>3</th>\n",
              "      <td>5.0</td>\n",
              "      <td>Pink Panther</td>\n",
              "      <td>54.0</td>\n",
              "      <td>198.658lbs</td>\n",
              "      <td>-</td>\n",
              "      <td>-</td>\n",
              "      <td>-</td>\n",
              "      <td>69</td>\n",
              "      <td>NaN</td>\n",
              "      <td>75</td>\n",
              "    </tr>\n",
              "    <tr>\n",
              "      <th>4</th>\n",
              "      <td>6.0</td>\n",
              "      <td>Huey McDuck</td>\n",
              "      <td>52.0</td>\n",
              "      <td>189lbs</td>\n",
              "      <td>-</td>\n",
              "      <td>-</td>\n",
              "      <td>-</td>\n",
              "      <td>68</td>\n",
              "      <td>75</td>\n",
              "      <td>72</td>\n",
              "    </tr>\n",
              "  </tbody>\n",
              "</table>\n",
              "</div>\n",
              "    <div class=\"colab-df-buttons\">\n",
              "\n",
              "  <div class=\"colab-df-container\">\n",
              "    <button class=\"colab-df-convert\" onclick=\"convertToInteractive('df-8645e157-e068-4f50-970f-85fbec6f759d')\"\n",
              "            title=\"Convert this dataframe to an interactive table.\"\n",
              "            style=\"display:none;\">\n",
              "\n",
              "  <svg xmlns=\"http://www.w3.org/2000/svg\" height=\"24px\" viewBox=\"0 -960 960 960\">\n",
              "    <path d=\"M120-120v-720h720v720H120Zm60-500h600v-160H180v160Zm220 220h160v-160H400v160Zm0 220h160v-160H400v160ZM180-400h160v-160H180v160Zm440 0h160v-160H620v160ZM180-180h160v-160H180v160Zm440 0h160v-160H620v160Z\"/>\n",
              "  </svg>\n",
              "    </button>\n",
              "\n",
              "  <style>\n",
              "    .colab-df-container {\n",
              "      display:flex;\n",
              "      gap: 12px;\n",
              "    }\n",
              "\n",
              "    .colab-df-convert {\n",
              "      background-color: #E8F0FE;\n",
              "      border: none;\n",
              "      border-radius: 50%;\n",
              "      cursor: pointer;\n",
              "      display: none;\n",
              "      fill: #1967D2;\n",
              "      height: 32px;\n",
              "      padding: 0 0 0 0;\n",
              "      width: 32px;\n",
              "    }\n",
              "\n",
              "    .colab-df-convert:hover {\n",
              "      background-color: #E2EBFA;\n",
              "      box-shadow: 0px 1px 2px rgba(60, 64, 67, 0.3), 0px 1px 3px 1px rgba(60, 64, 67, 0.15);\n",
              "      fill: #174EA6;\n",
              "    }\n",
              "\n",
              "    .colab-df-buttons div {\n",
              "      margin-bottom: 4px;\n",
              "    }\n",
              "\n",
              "    [theme=dark] .colab-df-convert {\n",
              "      background-color: #3B4455;\n",
              "      fill: #D2E3FC;\n",
              "    }\n",
              "\n",
              "    [theme=dark] .colab-df-convert:hover {\n",
              "      background-color: #434B5C;\n",
              "      box-shadow: 0px 1px 3px 1px rgba(0, 0, 0, 0.15);\n",
              "      filter: drop-shadow(0px 1px 2px rgba(0, 0, 0, 0.3));\n",
              "      fill: #FFFFFF;\n",
              "    }\n",
              "  </style>\n",
              "\n",
              "    <script>\n",
              "      const buttonEl =\n",
              "        document.querySelector('#df-8645e157-e068-4f50-970f-85fbec6f759d button.colab-df-convert');\n",
              "      buttonEl.style.display =\n",
              "        google.colab.kernel.accessAllowed ? 'block' : 'none';\n",
              "\n",
              "      async function convertToInteractive(key) {\n",
              "        const element = document.querySelector('#df-8645e157-e068-4f50-970f-85fbec6f759d');\n",
              "        const dataTable =\n",
              "          await google.colab.kernel.invokeFunction('convertToInteractive',\n",
              "                                                    [key], {});\n",
              "        if (!dataTable) return;\n",
              "\n",
              "        const docLinkHtml = 'Like what you see? Visit the ' +\n",
              "          '<a target=\"_blank\" href=https://colab.research.google.com/notebooks/data_table.ipynb>data table notebook</a>'\n",
              "          + ' to learn more about interactive tables.';\n",
              "        element.innerHTML = '';\n",
              "        dataTable['output_type'] = 'display_data';\n",
              "        await google.colab.output.renderOutput(dataTable, element);\n",
              "        const docLink = document.createElement('div');\n",
              "        docLink.innerHTML = docLinkHtml;\n",
              "        element.appendChild(docLink);\n",
              "      }\n",
              "    </script>\n",
              "  </div>\n",
              "\n",
              "\n",
              "<div id=\"df-f77591a9-2005-4ec5-97dd-649f635cda9e\">\n",
              "  <button class=\"colab-df-quickchart\" onclick=\"quickchart('df-f77591a9-2005-4ec5-97dd-649f635cda9e')\"\n",
              "            title=\"Suggest charts\"\n",
              "            style=\"display:none;\">\n",
              "\n",
              "<svg xmlns=\"http://www.w3.org/2000/svg\" height=\"24px\"viewBox=\"0 0 24 24\"\n",
              "     width=\"24px\">\n",
              "    <g>\n",
              "        <path d=\"M19 3H5c-1.1 0-2 .9-2 2v14c0 1.1.9 2 2 2h14c1.1 0 2-.9 2-2V5c0-1.1-.9-2-2-2zM9 17H7v-7h2v7zm4 0h-2V7h2v10zm4 0h-2v-4h2v4z\"/>\n",
              "    </g>\n",
              "</svg>\n",
              "  </button>\n",
              "\n",
              "<style>\n",
              "  .colab-df-quickchart {\n",
              "      --bg-color: #E8F0FE;\n",
              "      --fill-color: #1967D2;\n",
              "      --hover-bg-color: #E2EBFA;\n",
              "      --hover-fill-color: #174EA6;\n",
              "      --disabled-fill-color: #AAA;\n",
              "      --disabled-bg-color: #DDD;\n",
              "  }\n",
              "\n",
              "  [theme=dark] .colab-df-quickchart {\n",
              "      --bg-color: #3B4455;\n",
              "      --fill-color: #D2E3FC;\n",
              "      --hover-bg-color: #434B5C;\n",
              "      --hover-fill-color: #FFFFFF;\n",
              "      --disabled-bg-color: #3B4455;\n",
              "      --disabled-fill-color: #666;\n",
              "  }\n",
              "\n",
              "  .colab-df-quickchart {\n",
              "    background-color: var(--bg-color);\n",
              "    border: none;\n",
              "    border-radius: 50%;\n",
              "    cursor: pointer;\n",
              "    display: none;\n",
              "    fill: var(--fill-color);\n",
              "    height: 32px;\n",
              "    padding: 0;\n",
              "    width: 32px;\n",
              "  }\n",
              "\n",
              "  .colab-df-quickchart:hover {\n",
              "    background-color: var(--hover-bg-color);\n",
              "    box-shadow: 0 1px 2px rgba(60, 64, 67, 0.3), 0 1px 3px 1px rgba(60, 64, 67, 0.15);\n",
              "    fill: var(--button-hover-fill-color);\n",
              "  }\n",
              "\n",
              "  .colab-df-quickchart-complete:disabled,\n",
              "  .colab-df-quickchart-complete:disabled:hover {\n",
              "    background-color: var(--disabled-bg-color);\n",
              "    fill: var(--disabled-fill-color);\n",
              "    box-shadow: none;\n",
              "  }\n",
              "\n",
              "  .colab-df-spinner {\n",
              "    border: 2px solid var(--fill-color);\n",
              "    border-color: transparent;\n",
              "    border-bottom-color: var(--fill-color);\n",
              "    animation:\n",
              "      spin 1s steps(1) infinite;\n",
              "  }\n",
              "\n",
              "  @keyframes spin {\n",
              "    0% {\n",
              "      border-color: transparent;\n",
              "      border-bottom-color: var(--fill-color);\n",
              "      border-left-color: var(--fill-color);\n",
              "    }\n",
              "    20% {\n",
              "      border-color: transparent;\n",
              "      border-left-color: var(--fill-color);\n",
              "      border-top-color: var(--fill-color);\n",
              "    }\n",
              "    30% {\n",
              "      border-color: transparent;\n",
              "      border-left-color: var(--fill-color);\n",
              "      border-top-color: var(--fill-color);\n",
              "      border-right-color: var(--fill-color);\n",
              "    }\n",
              "    40% {\n",
              "      border-color: transparent;\n",
              "      border-right-color: var(--fill-color);\n",
              "      border-top-color: var(--fill-color);\n",
              "    }\n",
              "    60% {\n",
              "      border-color: transparent;\n",
              "      border-right-color: var(--fill-color);\n",
              "    }\n",
              "    80% {\n",
              "      border-color: transparent;\n",
              "      border-right-color: var(--fill-color);\n",
              "      border-bottom-color: var(--fill-color);\n",
              "    }\n",
              "    90% {\n",
              "      border-color: transparent;\n",
              "      border-bottom-color: var(--fill-color);\n",
              "    }\n",
              "  }\n",
              "</style>\n",
              "\n",
              "  <script>\n",
              "    async function quickchart(key) {\n",
              "      const quickchartButtonEl =\n",
              "        document.querySelector('#' + key + ' button');\n",
              "      quickchartButtonEl.disabled = true;  // To prevent multiple clicks.\n",
              "      quickchartButtonEl.classList.add('colab-df-spinner');\n",
              "      try {\n",
              "        const charts = await google.colab.kernel.invokeFunction(\n",
              "            'suggestCharts', [key], {});\n",
              "      } catch (error) {\n",
              "        console.error('Error during call to suggestCharts:', error);\n",
              "      }\n",
              "      quickchartButtonEl.classList.remove('colab-df-spinner');\n",
              "      quickchartButtonEl.classList.add('colab-df-quickchart-complete');\n",
              "    }\n",
              "    (() => {\n",
              "      let quickchartButtonEl =\n",
              "        document.querySelector('#df-f77591a9-2005-4ec5-97dd-649f635cda9e button');\n",
              "      quickchartButtonEl.style.display =\n",
              "        google.colab.kernel.accessAllowed ? 'block' : 'none';\n",
              "    })();\n",
              "  </script>\n",
              "</div>\n",
              "\n",
              "    </div>\n",
              "  </div>\n"
            ],
            "application/vnd.google.colaboratory.intrinsic+json": {
              "type": "dataframe",
              "variable_name": "df",
              "summary": "{\n  \"name\": \"df\",\n  \"rows\": 15,\n  \"fields\": [\n    {\n      \"column\": \"Id\",\n      \"properties\": {\n        \"dtype\": \"number\",\n        \"std\": 4.030333701269628,\n        \"min\": 2.0,\n        \"max\": 15.0,\n        \"num_unique_values\": 13,\n        \"samples\": [\n          13.0,\n          11.0,\n          2.0\n        ],\n        \"semantic_type\": \"\",\n        \"description\": \"\"\n      }\n    },\n    {\n      \"column\": \"Name\",\n      \"properties\": {\n        \"dtype\": \"string\",\n        \"num_unique_values\": 11,\n        \"samples\": [\n          \"Dewey McDuck\",\n          \"Donald Duck\",\n          \"Michel Long\"\n        ],\n        \"semantic_type\": \"\",\n        \"description\": \"\"\n      }\n    },\n    {\n      \"column\": \"Age\",\n      \"properties\": {\n        \"dtype\": \"number\",\n        \"std\": 16.262089519971152,\n        \"min\": 12.0,\n        \"max\": 54.0,\n        \"num_unique_values\": 7,\n        \"samples\": [\n          34.0,\n          16.0,\n          32.0\n        ],\n        \"semantic_type\": \"\",\n        \"description\": \"\"\n      }\n    },\n    {\n      \"column\": \"Weight\",\n      \"properties\": {\n        \"dtype\": \"string\",\n        \"num_unique_values\": 8,\n        \"samples\": [\n          \"78kgs\",\n          \"45kgs\",\n          \"154.89lbs\"\n        ],\n        \"semantic_type\": \"\",\n        \"description\": \"\"\n      }\n    },\n    {\n      \"column\": \"m0006\",\n      \"properties\": {\n        \"dtype\": \"category\",\n        \"num_unique_values\": 3,\n        \"samples\": [\n          \"-\",\n          \"78\",\n          \"65\"\n        ],\n        \"semantic_type\": \"\",\n        \"description\": \"\"\n      }\n    },\n    {\n      \"column\": \"m0612\",\n      \"properties\": {\n        \"dtype\": \"category\",\n        \"num_unique_values\": 5,\n        \"samples\": [\n          \"79\",\n          \"67\",\n          \"76\"\n        ],\n        \"semantic_type\": \"\",\n        \"description\": \"\"\n      }\n    },\n    {\n      \"column\": \"m1218\",\n      \"properties\": {\n        \"dtype\": \"category\",\n        \"num_unique_values\": 4,\n        \"samples\": [\n          \"72\",\n          \"55\",\n          \"-\"\n        ],\n        \"semantic_type\": \"\",\n        \"description\": \"\"\n      }\n    },\n    {\n      \"column\": \"f0006\",\n      \"properties\": {\n        \"dtype\": \"category\",\n        \"num_unique_values\": 7,\n        \"samples\": [\n          \"85\",\n          \"65\",\n          \"71\"\n        ],\n        \"semantic_type\": \"\",\n        \"description\": \"\"\n      }\n    },\n    {\n      \"column\": \"f0612\",\n      \"properties\": {\n        \"dtype\": \"category\",\n        \"num_unique_values\": 7,\n        \"samples\": [\n          \"84\",\n          \"69\",\n          \"95\"\n        ],\n        \"semantic_type\": \"\",\n        \"description\": \"\"\n      }\n    },\n    {\n      \"column\": \"f1218\",\n      \"properties\": {\n        \"dtype\": \"category\",\n        \"num_unique_values\": 6,\n        \"samples\": [\n          \"76\",\n          \"72\",\n          \"70\"\n        ],\n        \"semantic_type\": \"\",\n        \"description\": \"\"\n      }\n    }\n  ]\n}"
            }
          },
          "metadata": {},
          "execution_count": 68
        }
      ],
      "source": [
        "ten_cot = [\"Id\", \"Name\", \"Age\", \"Weight\", \"m0006\", \"m0612\", \"m1218\", \"f0006\", \"f0612\", \"f1218\"]\n",
        "df = pd.read_csv(\"/content/patient_heart_rate.csv\", names=ten_cot, header=0, on_bad_lines='skip')\n",
        "df.head()"
      ]
    },
    {
      "cell_type": "markdown",
      "source": [
        "###Câu 2:"
      ],
      "metadata": {
        "id": "rEVE1lZmtUtv"
      }
    },
    {
      "cell_type": "code",
      "source": [
        "df[['Firstname', 'Lastname']] = df['Name'].str.split(expand=True)\n",
        "df.drop('Name', axis=1, inplace=True)\n",
        "print(df)"
      ],
      "metadata": {
        "colab": {
          "base_uri": "https://localhost:8080/"
        },
        "id": "YL14Mx2qtVv3",
        "outputId": "7576ff21-4a49-4d39-f3fa-e5712aaca546"
      },
      "execution_count": 69,
      "outputs": [
        {
          "output_type": "stream",
          "name": "stdout",
          "text": [
            "      Id   Age      Weight m0006 m0612 m1218 f0006 f0612 f1218 Firstname  \\\n",
            "0    2.0  34.0   154.89lbs     -     -     -    85    84    76    Donald   \n",
            "1    3.0  16.0         NaN     -     -     -    65    69    72      Mini   \n",
            "2    4.0   NaN       78kgs    78    79    72     -     -     -   Scrooge   \n",
            "3    5.0  54.0  198.658lbs     -     -     -    69   NaN    75      Pink   \n",
            "4    6.0  52.0      189lbs     -     -     -    68    75    72      Huey   \n",
            "5    7.0  19.0       56kgs     -     -     -    71    78    75     Dewey   \n",
            "6    8.0  32.0       78kgs    78    76    75     -     -     -    Scööpy   \n",
            "7    NaN   NaN         NaN   NaN   NaN   NaN   NaN   NaN   NaN       NaN   \n",
            "8    NaN   NaN         NaN   NaN   NaN   NaN   NaN   NaN   NaN       NaN   \n",
            "9    9.0  52.0      189lbs     -     -     -    68    75    72      Huey   \n",
            "10  10.0  12.0       45kgs     -     -     -    92    95    87     Louie   \n",
            "11  11.0   NaN       60kgs    78    75    72     -     -     -     Henry   \n",
            "12  12.0  34.0         NaN    65    67    55     -     -     -    Michel   \n",
            "13  13.0   NaN         NaN     -     -     -    68    72    70      Tana   \n",
            "14  15.0  52.0      180lbs     -     -     -    68    75    72       NaN   \n",
            "\n",
            "   Lastname  \n",
            "0      Duck  \n",
            "1     Mouse  \n",
            "2    McDuck  \n",
            "3   Panther  \n",
            "4    McDuck  \n",
            "5    McDuck  \n",
            "6       Doo  \n",
            "7       NaN  \n",
            "8       NaN  \n",
            "9    McDuck  \n",
            "10   McDuck  \n",
            "11      Nam  \n",
            "12     Long  \n",
            "13    Ricky  \n",
            "14      NaN  \n"
          ]
        }
      ]
    },
    {
      "cell_type": "markdown",
      "source": [
        "###Câu 3:"
      ],
      "metadata": {
        "id": "Mp4s9TCFtWdx"
      }
    },
    {
      "cell_type": "code",
      "source": [
        "weight = df['Weight']\n",
        "\n",
        "for i in range(len(weight)):\n",
        "    x = str(weight[i])\n",
        "\n",
        "    if 'lbs' in x[:-3]:\n",
        "      x = x[:-3]\n",
        "\n",
        "      float_x = float(x)\n",
        "\n",
        "      y = int(float_x/2.2)\n",
        "\n",
        "      y = str(y) + \" kgs\"\n",
        "\n",
        "      weight[i] = y\n",
        "\n",
        "print(df)"
      ],
      "metadata": {
        "colab": {
          "base_uri": "https://localhost:8080/"
        },
        "id": "vGo0dRlktXgV",
        "outputId": "e8f6e937-835e-466f-9fb2-b917a63a92b8"
      },
      "execution_count": 70,
      "outputs": [
        {
          "output_type": "stream",
          "name": "stdout",
          "text": [
            "      Id   Age      Weight m0006 m0612 m1218 f0006 f0612 f1218 Firstname  \\\n",
            "0    2.0  34.0   154.89lbs     -     -     -    85    84    76    Donald   \n",
            "1    3.0  16.0         NaN     -     -     -    65    69    72      Mini   \n",
            "2    4.0   NaN       78kgs    78    79    72     -     -     -   Scrooge   \n",
            "3    5.0  54.0  198.658lbs     -     -     -    69   NaN    75      Pink   \n",
            "4    6.0  52.0      189lbs     -     -     -    68    75    72      Huey   \n",
            "5    7.0  19.0       56kgs     -     -     -    71    78    75     Dewey   \n",
            "6    8.0  32.0       78kgs    78    76    75     -     -     -    Scööpy   \n",
            "7    NaN   NaN         NaN   NaN   NaN   NaN   NaN   NaN   NaN       NaN   \n",
            "8    NaN   NaN         NaN   NaN   NaN   NaN   NaN   NaN   NaN       NaN   \n",
            "9    9.0  52.0      189lbs     -     -     -    68    75    72      Huey   \n",
            "10  10.0  12.0       45kgs     -     -     -    92    95    87     Louie   \n",
            "11  11.0   NaN       60kgs    78    75    72     -     -     -     Henry   \n",
            "12  12.0  34.0         NaN    65    67    55     -     -     -    Michel   \n",
            "13  13.0   NaN         NaN     -     -     -    68    72    70      Tana   \n",
            "14  15.0  52.0      180lbs     -     -     -    68    75    72       NaN   \n",
            "\n",
            "   Lastname  \n",
            "0      Duck  \n",
            "1     Mouse  \n",
            "2    McDuck  \n",
            "3   Panther  \n",
            "4    McDuck  \n",
            "5    McDuck  \n",
            "6       Doo  \n",
            "7       NaN  \n",
            "8       NaN  \n",
            "9    McDuck  \n",
            "10   McDuck  \n",
            "11      Nam  \n",
            "12     Long  \n",
            "13    Ricky  \n",
            "14      NaN  \n"
          ]
        }
      ]
    },
    {
      "cell_type": "markdown",
      "source": [
        "###Câu 4:"
      ],
      "metadata": {
        "id": "NTLDl3OYtX3z"
      }
    },
    {
      "cell_type": "code",
      "source": [
        "df.dropna(how='all', inplace=True)\n",
        "print(df)"
      ],
      "metadata": {
        "colab": {
          "base_uri": "https://localhost:8080/"
        },
        "id": "FAEzPYZQtZT8",
        "outputId": "6bb28915-b5d4-473d-a0ea-ccc116a34768"
      },
      "execution_count": 71,
      "outputs": [
        {
          "output_type": "stream",
          "name": "stdout",
          "text": [
            "      Id   Age      Weight m0006 m0612 m1218 f0006 f0612 f1218 Firstname  \\\n",
            "0    2.0  34.0   154.89lbs     -     -     -    85    84    76    Donald   \n",
            "1    3.0  16.0         NaN     -     -     -    65    69    72      Mini   \n",
            "2    4.0   NaN       78kgs    78    79    72     -     -     -   Scrooge   \n",
            "3    5.0  54.0  198.658lbs     -     -     -    69   NaN    75      Pink   \n",
            "4    6.0  52.0      189lbs     -     -     -    68    75    72      Huey   \n",
            "5    7.0  19.0       56kgs     -     -     -    71    78    75     Dewey   \n",
            "6    8.0  32.0       78kgs    78    76    75     -     -     -    Scööpy   \n",
            "9    9.0  52.0      189lbs     -     -     -    68    75    72      Huey   \n",
            "10  10.0  12.0       45kgs     -     -     -    92    95    87     Louie   \n",
            "11  11.0   NaN       60kgs    78    75    72     -     -     -     Henry   \n",
            "12  12.0  34.0         NaN    65    67    55     -     -     -    Michel   \n",
            "13  13.0   NaN         NaN     -     -     -    68    72    70      Tana   \n",
            "14  15.0  52.0      180lbs     -     -     -    68    75    72       NaN   \n",
            "\n",
            "   Lastname  \n",
            "0      Duck  \n",
            "1     Mouse  \n",
            "2    McDuck  \n",
            "3   Panther  \n",
            "4    McDuck  \n",
            "5    McDuck  \n",
            "6       Doo  \n",
            "9    McDuck  \n",
            "10   McDuck  \n",
            "11      Nam  \n",
            "12     Long  \n",
            "13    Ricky  \n",
            "14      NaN  \n"
          ]
        }
      ]
    },
    {
      "cell_type": "markdown",
      "source": [
        "###Câu 5:"
      ],
      "metadata": {
        "id": "gVODyGEItafz"
      }
    },
    {
      "cell_type": "code",
      "source": [
        "df.drop_duplicates(subset=['Firstname', 'Lastname', 'Age', 'Weight'], inplace=True)\n",
        "print(df)"
      ],
      "metadata": {
        "colab": {
          "base_uri": "https://localhost:8080/"
        },
        "id": "1p5FmPg6tjFe",
        "outputId": "5c10b486-2c9e-4bea-d967-160c7b7cfa39"
      },
      "execution_count": 72,
      "outputs": [
        {
          "output_type": "stream",
          "name": "stdout",
          "text": [
            "      Id   Age      Weight m0006 m0612 m1218 f0006 f0612 f1218 Firstname  \\\n",
            "0    2.0  34.0   154.89lbs     -     -     -    85    84    76    Donald   \n",
            "1    3.0  16.0         NaN     -     -     -    65    69    72      Mini   \n",
            "2    4.0   NaN       78kgs    78    79    72     -     -     -   Scrooge   \n",
            "3    5.0  54.0  198.658lbs     -     -     -    69   NaN    75      Pink   \n",
            "4    6.0  52.0      189lbs     -     -     -    68    75    72      Huey   \n",
            "5    7.0  19.0       56kgs     -     -     -    71    78    75     Dewey   \n",
            "6    8.0  32.0       78kgs    78    76    75     -     -     -    Scööpy   \n",
            "10  10.0  12.0       45kgs     -     -     -    92    95    87     Louie   \n",
            "11  11.0   NaN       60kgs    78    75    72     -     -     -     Henry   \n",
            "12  12.0  34.0         NaN    65    67    55     -     -     -    Michel   \n",
            "13  13.0   NaN         NaN     -     -     -    68    72    70      Tana   \n",
            "14  15.0  52.0      180lbs     -     -     -    68    75    72       NaN   \n",
            "\n",
            "   Lastname  \n",
            "0      Duck  \n",
            "1     Mouse  \n",
            "2    McDuck  \n",
            "3   Panther  \n",
            "4    McDuck  \n",
            "5    McDuck  \n",
            "6       Doo  \n",
            "10   McDuck  \n",
            "11      Nam  \n",
            "12     Long  \n",
            "13    Ricky  \n",
            "14      NaN  \n"
          ]
        }
      ]
    },
    {
      "cell_type": "markdown",
      "source": [
        "###Câu 6:"
      ],
      "metadata": {
        "id": "FddCC6sEteE2"
      }
    },
    {
      "cell_type": "code",
      "source": [
        "df['Firstname'] = df['Firstname'].str.replace(r'[^\\x00-\\x7F]+', '', regex=True)\n",
        "df['Lastname'] = df['Lastname'].str.replace(r'[^\\x00-\\x7F]+', '', regex=True)\n",
        "print(df)"
      ],
      "metadata": {
        "colab": {
          "base_uri": "https://localhost:8080/"
        },
        "id": "w8zVBxcFtjbI",
        "outputId": "797f4183-cdb0-4838-b112-a1d0a70f152f"
      },
      "execution_count": 73,
      "outputs": [
        {
          "output_type": "stream",
          "name": "stdout",
          "text": [
            "      Id   Age      Weight m0006 m0612 m1218 f0006 f0612 f1218 Firstname  \\\n",
            "0    2.0  34.0   154.89lbs     -     -     -    85    84    76    Donald   \n",
            "1    3.0  16.0         NaN     -     -     -    65    69    72      Mini   \n",
            "2    4.0   NaN       78kgs    78    79    72     -     -     -   Scrooge   \n",
            "3    5.0  54.0  198.658lbs     -     -     -    69   NaN    75      Pink   \n",
            "4    6.0  52.0      189lbs     -     -     -    68    75    72      Huey   \n",
            "5    7.0  19.0       56kgs     -     -     -    71    78    75     Dewey   \n",
            "6    8.0  32.0       78kgs    78    76    75     -     -     -      Scpy   \n",
            "10  10.0  12.0       45kgs     -     -     -    92    95    87     Louie   \n",
            "11  11.0   NaN       60kgs    78    75    72     -     -     -     Henry   \n",
            "12  12.0  34.0         NaN    65    67    55     -     -     -    Michel   \n",
            "13  13.0   NaN         NaN     -     -     -    68    72    70      Tana   \n",
            "14  15.0  52.0      180lbs     -     -     -    68    75    72       NaN   \n",
            "\n",
            "   Lastname  \n",
            "0      Duck  \n",
            "1     Mouse  \n",
            "2    McDuck  \n",
            "3   Panther  \n",
            "4    McDuck  \n",
            "5    McDuck  \n",
            "6       Doo  \n",
            "10   McDuck  \n",
            "11      Nam  \n",
            "12     Long  \n",
            "13    Ricky  \n",
            "14      NaN  \n"
          ]
        }
      ]
    },
    {
      "cell_type": "markdown",
      "source": [
        "###Câu 7:"
      ],
      "metadata": {
        "id": "hUbata-etkMQ"
      }
    },
    {
      "cell_type": "code",
      "source": [
        "df['Weight'] = pd.to_numeric(df['Weight'].str.extract('(\\d+)').iloc[:, 0], errors='coerce')\n",
        "df['Age'].fillna(df['Age'].mean(), inplace=True)\n",
        "df['Weight'].fillna(df['Weight'].mean(), inplace=True)\n",
        "print(df)"
      ],
      "metadata": {
        "colab": {
          "base_uri": "https://localhost:8080/"
        },
        "id": "4gvAk-VItlww",
        "outputId": "bdc247b1-60a3-4eb4-f32c-907f4435761f"
      },
      "execution_count": 74,
      "outputs": [
        {
          "output_type": "stream",
          "name": "stdout",
          "text": [
            "      Id        Age      Weight m0006 m0612 m1218 f0006 f0612 f1218 Firstname  \\\n",
            "0    2.0  34.000000  154.000000     -     -     -    85    84    76    Donald   \n",
            "1    3.0  16.000000  115.333333     -     -     -    65    69    72      Mini   \n",
            "2    4.0  33.888889   78.000000    78    79    72     -     -     -   Scrooge   \n",
            "3    5.0  54.000000  198.000000     -     -     -    69   NaN    75      Pink   \n",
            "4    6.0  52.000000  189.000000     -     -     -    68    75    72      Huey   \n",
            "5    7.0  19.000000   56.000000     -     -     -    71    78    75     Dewey   \n",
            "6    8.0  32.000000   78.000000    78    76    75     -     -     -      Scpy   \n",
            "10  10.0  12.000000   45.000000     -     -     -    92    95    87     Louie   \n",
            "11  11.0  33.888889   60.000000    78    75    72     -     -     -     Henry   \n",
            "12  12.0  34.000000  115.333333    65    67    55     -     -     -    Michel   \n",
            "13  13.0  33.888889  115.333333     -     -     -    68    72    70      Tana   \n",
            "14  15.0  52.000000  180.000000     -     -     -    68    75    72       NaN   \n",
            "\n",
            "   Lastname  \n",
            "0      Duck  \n",
            "1     Mouse  \n",
            "2    McDuck  \n",
            "3   Panther  \n",
            "4    McDuck  \n",
            "5    McDuck  \n",
            "6       Doo  \n",
            "10   McDuck  \n",
            "11      Nam  \n",
            "12     Long  \n",
            "13    Ricky  \n",
            "14      NaN  \n"
          ]
        },
        {
          "output_type": "stream",
          "name": "stderr",
          "text": [
            "<ipython-input-74-17e7236b45a0>:2: FutureWarning: A value is trying to be set on a copy of a DataFrame or Series through chained assignment using an inplace method.\n",
            "The behavior will change in pandas 3.0. This inplace method will never work because the intermediate object on which we are setting values always behaves as a copy.\n",
            "\n",
            "For example, when doing 'df[col].method(value, inplace=True)', try using 'df.method({col: value}, inplace=True)' or df[col] = df[col].method(value) instead, to perform the operation inplace on the original object.\n",
            "\n",
            "\n",
            "  df['Age'].fillna(df['Age'].mean(), inplace=True)\n",
            "<ipython-input-74-17e7236b45a0>:3: FutureWarning: A value is trying to be set on a copy of a DataFrame or Series through chained assignment using an inplace method.\n",
            "The behavior will change in pandas 3.0. This inplace method will never work because the intermediate object on which we are setting values always behaves as a copy.\n",
            "\n",
            "For example, when doing 'df[col].method(value, inplace=True)', try using 'df.method({col: value}, inplace=True)' or df[col] = df[col].method(value) instead, to perform the operation inplace on the original object.\n",
            "\n",
            "\n",
            "  df['Weight'].fillna(df['Weight'].mean(), inplace=True)\n"
          ]
        }
      ]
    },
    {
      "cell_type": "markdown",
      "source": [
        "###Câu 8:"
      ],
      "metadata": {
        "id": "pueUJeTPtnCk"
      }
    },
    {
      "cell_type": "code",
      "source": [
        "df = pd.melt(df, id_vars=['Id', 'Age', 'Weight', 'Firstname', 'Lastname'],\n",
        "             value_name=\"PulseRate\", var_name=\"sex_and_time\").sort_values(\n",
        "             ['Id', 'Age', 'Weight', 'Firstname', 'Lastname'])\n",
        "\n",
        "tmp_df = df[\"sex_and_time\"].str.extract(r'(\\D)(\\d)(\\d{2})', expand=True)\n",
        "\n",
        "tmp_df.columns = [\"Sex\", \"hours_lower\", \"hours_upper\"]\n",
        "\n",
        "tmp_df[\"Time\"] = tmp_df[\"hours_lower\"] + \"-\" + tmp_df[\"hours_upper\"]\n",
        "\n",
        "df = pd.concat([df, tmp_df], axis=1)\n",
        "\n",
        "df = df.drop(['sex_and_time', 'hours_lower', 'hours_upper'], axis=1)\n",
        "df = df.dropna()\n",
        "\n",
        "df.to_csv('outputcleanup.csv', index=False)\n",
        "\n",
        "print(df)\n"
      ],
      "metadata": {
        "colab": {
          "base_uri": "https://localhost:8080/"
        },
        "id": "6Qo3vr11toNb",
        "outputId": "17182b46-b066-4552-bad7-95e51bf296fd"
      },
      "execution_count": 75,
      "outputs": [
        {
          "output_type": "stream",
          "name": "stdout",
          "text": [
            "      Id        Age      Weight Firstname Lastname PulseRate Sex  Time\n",
            "0    2.0  34.000000  154.000000    Donald     Duck         -   m  0-00\n",
            "12   2.0  34.000000  154.000000    Donald     Duck         -   m  0-61\n",
            "24   2.0  34.000000  154.000000    Donald     Duck         -   m  1-21\n",
            "36   2.0  34.000000  154.000000    Donald     Duck        85   f  0-00\n",
            "48   2.0  34.000000  154.000000    Donald     Duck        84   f  0-61\n",
            "..   ...        ...         ...       ...      ...       ...  ..   ...\n",
            "22  13.0  33.888889  115.333333      Tana    Ricky         -   m  0-61\n",
            "34  13.0  33.888889  115.333333      Tana    Ricky         -   m  1-21\n",
            "46  13.0  33.888889  115.333333      Tana    Ricky        68   f  0-00\n",
            "58  13.0  33.888889  115.333333      Tana    Ricky        72   f  0-61\n",
            "70  13.0  33.888889  115.333333      Tana    Ricky        70   f  1-21\n",
            "\n",
            "[65 rows x 8 columns]\n"
          ]
        }
      ]
    },
    {
      "cell_type": "markdown",
      "source": [
        "###Câu 9:"
      ],
      "metadata": {
        "id": "Y128auKmtpSp"
      }
    },
    {
      "cell_type": "code",
      "source": [
        "def fill_missing_bp(row, column):\n",
        "    if pd.isna(row[column]):\n",
        "        previous_values = df[df['Id'] == row['Id']][column].dropna().values\n",
        "        if len(previous_values) > 0:\n",
        "            return np.mean(previous_values)\n",
        "    return row[column]\n",
        "\n",
        "df['PulseRate'] = df.apply(lambda row: fill_missing_bp(row, 'PulseRate'), axis=1)\n",
        "print(df)"
      ],
      "metadata": {
        "colab": {
          "base_uri": "https://localhost:8080/"
        },
        "id": "9_UP7tINt1-t",
        "outputId": "198c1b1e-e053-492c-fbd6-210dc10f1331"
      },
      "execution_count": 76,
      "outputs": [
        {
          "output_type": "stream",
          "name": "stdout",
          "text": [
            "      Id        Age      Weight Firstname Lastname PulseRate Sex  Time\n",
            "0    2.0  34.000000  154.000000    Donald     Duck         -   m  0-00\n",
            "12   2.0  34.000000  154.000000    Donald     Duck         -   m  0-61\n",
            "24   2.0  34.000000  154.000000    Donald     Duck         -   m  1-21\n",
            "36   2.0  34.000000  154.000000    Donald     Duck        85   f  0-00\n",
            "48   2.0  34.000000  154.000000    Donald     Duck        84   f  0-61\n",
            "..   ...        ...         ...       ...      ...       ...  ..   ...\n",
            "22  13.0  33.888889  115.333333      Tana    Ricky         -   m  0-61\n",
            "34  13.0  33.888889  115.333333      Tana    Ricky         -   m  1-21\n",
            "46  13.0  33.888889  115.333333      Tana    Ricky        68   f  0-00\n",
            "58  13.0  33.888889  115.333333      Tana    Ricky        72   f  0-61\n",
            "70  13.0  33.888889  115.333333      Tana    Ricky        70   f  1-21\n",
            "\n",
            "[65 rows x 8 columns]\n"
          ]
        }
      ]
    },
    {
      "cell_type": "markdown",
      "source": [
        "###Câu 10:"
      ],
      "metadata": {
        "id": "Kw-JyxHWt2gx"
      }
    },
    {
      "cell_type": "code",
      "source": [
        "df.reset_index(drop=True, inplace=True)\n",
        "\n",
        "df.to_csv(\"/content/patient_heart_rate_clean.csv\", index=False)\n",
        "print(\"Dữ liệu đã làm sạch và lưu vào file patient_heart_rate_clean.csv\")"
      ],
      "metadata": {
        "colab": {
          "base_uri": "https://localhost:8080/"
        },
        "id": "l8QCjxTot3wc",
        "outputId": "6150fad0-30b5-4880-acc2-4df03e69a2c8"
      },
      "execution_count": 77,
      "outputs": [
        {
          "output_type": "stream",
          "name": "stdout",
          "text": [
            "Dữ liệu đã làm sạch và lưu vào file patient_heart_rate_clean.csv\n"
          ]
        }
      ]
    }
  ]
}