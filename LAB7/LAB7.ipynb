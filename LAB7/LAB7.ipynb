{
  "nbformat": 4,
  "nbformat_minor": 0,
  "metadata": {
    "colab": {
      "provenance": []
    },
    "kernelspec": {
      "name": "python3",
      "display_name": "Python 3"
    },
    "language_info": {
      "name": "python"
    }
  },
  "cells": [
    {
      "cell_type": "code",
      "execution_count": 1,
      "metadata": {
        "id": "vrTTqsq2aVF-"
      },
      "outputs": [],
      "source": [
        "import nltk\n",
        "from nltk.corpus import stopwords, names, wordnet\n",
        "from nltk.tokenize import word_tokenize\n",
        "from nltk.tag import pos_tag\n",
        "import random"
      ]
    },
    {
      "cell_type": "code",
      "source": [
        "nltk.download('stopwords')\n",
        "nltk.download('punkt')\n",
        "nltk.download('wordnet')\n",
        "nltk.download('averaged_perceptron_tagger')\n",
        "nltk.download('averaged_perceptron_tagger_eng')\n",
        "nltk.download('names')\n",
        "nltk.download('punkt_tab')"
      ],
      "metadata": {
        "colab": {
          "base_uri": "https://localhost:8080/"
        },
        "id": "FxyvOiKicNaE",
        "outputId": "ea3cbfd3-8eda-42d8-b32c-91437dc62243"
      },
      "execution_count": 16,
      "outputs": [
        {
          "output_type": "stream",
          "name": "stderr",
          "text": [
            "[nltk_data] Downloading package stopwords to /root/nltk_data...\n",
            "[nltk_data]   Package stopwords is already up-to-date!\n",
            "[nltk_data] Downloading package punkt to /root/nltk_data...\n",
            "[nltk_data]   Package punkt is already up-to-date!\n",
            "[nltk_data] Downloading package wordnet to /root/nltk_data...\n",
            "[nltk_data]   Package wordnet is already up-to-date!\n",
            "[nltk_data] Downloading package averaged_perceptron_tagger to\n",
            "[nltk_data]     /root/nltk_data...\n",
            "[nltk_data]   Package averaged_perceptron_tagger is already up-to-\n",
            "[nltk_data]       date!\n",
            "[nltk_data] Downloading package averaged_perceptron_tagger_eng to\n",
            "[nltk_data]     /root/nltk_data...\n",
            "[nltk_data]   Unzipping taggers/averaged_perceptron_tagger_eng.zip.\n",
            "[nltk_data] Downloading package names to /root/nltk_data...\n",
            "[nltk_data]   Package names is already up-to-date!\n",
            "[nltk_data] Downloading package punkt_tab to /root/nltk_data...\n",
            "[nltk_data]   Package punkt_tab is already up-to-date!\n"
          ]
        },
        {
          "output_type": "execute_result",
          "data": {
            "text/plain": [
              "True"
            ]
          },
          "metadata": {},
          "execution_count": 16
        }
      ]
    },
    {
      "cell_type": "code",
      "source": [
        "print(nltk.corpus.__dir__())"
      ],
      "metadata": {
        "colab": {
          "base_uri": "https://localhost:8080/"
        },
        "id": "8cuGpG8VcT57",
        "outputId": "a423b9dc-f712-46af-c46a-bb338675d35c"
      },
      "execution_count": 8,
      "outputs": [
        {
          "output_type": "stream",
          "name": "stdout",
          "text": [
            "['_LazyModule__lazymodule_locals', '_LazyModule__lazymodule_globals', '__name__', '_LazyModule__lazymodule_name', '_LazyModule__lazymodule_init', '__module__', '__doc__', '_LazyModule__lazymodule_loaded', '__init__', '_LazyModule__lazymodule_import', '__getattr__', '__setattr__', '__repr__', '__dict__', '__weakref__', '__new__', '__hash__', '__str__', '__getattribute__', '__delattr__', '__lt__', '__le__', '__eq__', '__ne__', '__gt__', '__ge__', '__reduce_ex__', '__reduce__', '__getstate__', '__subclasshook__', '__init_subclass__', '__format__', '__sizeof__', '__dir__', '__class__']\n"
          ]
        }
      ]
    },
    {
      "cell_type": "code",
      "source": [
        "print(stopwords.fileids())"
      ],
      "metadata": {
        "colab": {
          "base_uri": "https://localhost:8080/"
        },
        "id": "m6r3vF33cV6q",
        "outputId": "a2939b25-107b-4f95-b69f-0fb94541a600"
      },
      "execution_count": 9,
      "outputs": [
        {
          "output_type": "stream",
          "name": "stdout",
          "text": [
            "['albanian', 'arabic', 'azerbaijani', 'basque', 'belarusian', 'bengali', 'catalan', 'chinese', 'danish', 'dutch', 'english', 'finnish', 'french', 'german', 'greek', 'hebrew', 'hinglish', 'hungarian', 'indonesian', 'italian', 'kazakh', 'nepali', 'norwegian', 'portuguese', 'romanian', 'russian', 'slovene', 'spanish', 'swedish', 'tajik', 'tamil', 'turkish']\n"
          ]
        }
      ]
    },
    {
      "cell_type": "code",
      "source": [
        "language = 'english'\n",
        "print(stopwords.words(language)[:10])"
      ],
      "metadata": {
        "colab": {
          "base_uri": "https://localhost:8080/"
        },
        "id": "oc_9CkqccYXG",
        "outputId": "ca1a3dad-8169-49d3-cc11-7b7d37a7ee1f"
      },
      "execution_count": 10,
      "outputs": [
        {
          "output_type": "stream",
          "name": "stdout",
          "text": [
            "['a', 'about', 'above', 'after', 'again', 'against', 'ain', 'all', 'am', 'an']\n"
          ]
        }
      ]
    },
    {
      "cell_type": "code",
      "source": [
        "def remove_stopwords(text, lang='english'):\n",
        "    words = word_tokenize(text)\n",
        "    filtered_words = [word for word in words if word.lower() not in stopwords.words(lang)]\n",
        "    return ' '.join(filtered_words)\n",
        "\n",
        "sample_text = \"This is a simple text with some stopwords.\"\n",
        "print(remove_stopwords(sample_text))"
      ],
      "metadata": {
        "colab": {
          "base_uri": "https://localhost:8080/"
        },
        "id": "gWSwqKTPces7",
        "outputId": "bf982ea1-b7b1-4993-b4b5-7d5ff993d089"
      },
      "execution_count": 11,
      "outputs": [
        {
          "output_type": "stream",
          "name": "stdout",
          "text": [
            "simple text stopwords .\n"
          ]
        }
      ]
    },
    {
      "cell_type": "code",
      "source": [
        "def filter_stopwords(word_list, lang='english'):\n",
        "    return [word for word in word_list if word.lower() not in stopwords.words(lang)]\n",
        "\n",
        "words = [\"this\", \"is\", \"an\", \"example\", \"of\", \"stopwords\", \"removal\"]\n",
        "print(filter_stopwords(words))"
      ],
      "metadata": {
        "colab": {
          "base_uri": "https://localhost:8080/"
        },
        "id": "2UA-7U4LcsJ8",
        "outputId": "fa946e62-9e98-4c1d-e3bb-ede2fbd46dd9"
      },
      "execution_count": 12,
      "outputs": [
        {
          "output_type": "stream",
          "name": "stdout",
          "text": [
            "['example', 'stopwords', 'removal']\n"
          ]
        }
      ]
    },
    {
      "cell_type": "code",
      "source": [
        "def get_wordnet_info(word):\n",
        "    synsets = wordnet.synsets(word)\n",
        "    for syn in synsets:\n",
        "        print(f\"{syn.name()} - {syn.definition()}\")\n",
        "        if syn.examples():\n",
        "            print(f\"  Examples: {syn.examples()}\")\n",
        "\n",
        "get_wordnet_info(\"computer\")"
      ],
      "metadata": {
        "colab": {
          "base_uri": "https://localhost:8080/"
        },
        "id": "A_1gKtdjd8re",
        "outputId": "6cd62a89-87bf-455a-d782-5d1e844d6045"
      },
      "execution_count": 13,
      "outputs": [
        {
          "output_type": "stream",
          "name": "stdout",
          "text": [
            "computer.n.01 - a machine for performing calculations automatically\n",
            "calculator.n.01 - an expert at calculation (or at operating calculating machines)\n"
          ]
        }
      ]
    },
    {
      "cell_type": "code",
      "source": [
        "def get_synonyms_antonyms(word):\n",
        "    synonyms, antonyms = set(), set()\n",
        "    for syn in wordnet.synsets(word):\n",
        "        for lemma in syn.lemmas():\n",
        "            synonyms.add(lemma.name())\n",
        "            if lemma.antonyms():\n",
        "                antonyms.add(lemma.antonyms()[0].name())\n",
        "    return synonyms, antonyms\n",
        "\n",
        "print(get_synonyms_antonyms(\"good\"))"
      ],
      "metadata": {
        "colab": {
          "base_uri": "https://localhost:8080/"
        },
        "id": "MPErctv1d__Z",
        "outputId": "66fe1143-0b02-4a21-96f5-e326cf6db460"
      },
      "execution_count": 14,
      "outputs": [
        {
          "output_type": "stream",
          "name": "stdout",
          "text": [
            "({'practiced', 'commodity', 'beneficial', 'expert', 'safe', 'serious', 'sound', 'salutary', 'adept', 'dear', 'trade_good', 'in_effect', 'proficient', 'secure', 'dependable', 'honorable', 'skilful', 'right', 'ripe', 'effective', 'in_force', 'unspoilt', 'good', 'well', 'respectable', 'thoroughly', 'just', 'skillful', 'estimable', 'honest', 'soundly', 'undecomposed', 'full', 'goodness', 'unspoiled', 'near', 'upright'}, {'bad', 'evil', 'evilness', 'badness', 'ill'})\n"
          ]
        }
      ]
    },
    {
      "cell_type": "code",
      "source": [
        "def pos_tagging(text):\n",
        "    words = word_tokenize(text)\n",
        "    return pos_tag(words)\n",
        "\n",
        "print(pos_tagging(\"NLTK is a powerful library for NLP\"))\n"
      ],
      "metadata": {
        "colab": {
          "base_uri": "https://localhost:8080/"
        },
        "id": "Gs9lz9SMeLSg",
        "outputId": "47e5e927-16af-4738-a788-82173c99845b"
      },
      "execution_count": 17,
      "outputs": [
        {
          "output_type": "stream",
          "name": "stdout",
          "text": [
            "[('NLTK', 'NNP'), ('is', 'VBZ'), ('a', 'DT'), ('powerful', 'JJ'), ('library', 'NN'), ('for', 'IN'), ('NLP', 'NNP')]\n"
          ]
        }
      ]
    },
    {
      "cell_type": "code",
      "source": [
        "def get_similarity(noun1, noun2):\n",
        "    syn1 = wordnet.synsets(noun1, pos=wordnet.NOUN)\n",
        "    syn2 = wordnet.synsets(noun2, pos=wordnet.NOUN)\n",
        "    if syn1 and syn2:\n",
        "        return syn1[0].wup_similarity(syn2[0])\n",
        "    return None\n",
        "\n",
        "print(get_similarity(\"cat\", \"dog\"))"
      ],
      "metadata": {
        "colab": {
          "base_uri": "https://localhost:8080/"
        },
        "id": "olxGlAO0eXs2",
        "outputId": "5dfdab07-5c76-4bcf-eff1-29f1093e1449"
      },
      "execution_count": 18,
      "outputs": [
        {
          "output_type": "stream",
          "name": "stdout",
          "text": [
            "0.8571428571428571\n"
          ]
        }
      ]
    },
    {
      "cell_type": "code",
      "source": [
        "print(get_similarity(\"run\", \"jog\"))"
      ],
      "metadata": {
        "colab": {
          "base_uri": "https://localhost:8080/"
        },
        "id": "fqyG43GNebBP",
        "outputId": "ce1b38f2-8cca-4937-f957-2903212a42f9"
      },
      "execution_count": 19,
      "outputs": [
        {
          "output_type": "stream",
          "name": "stdout",
          "text": [
            "0.23529411764705882\n"
          ]
        }
      ]
    },
    {
      "cell_type": "code",
      "source": [
        "male_names = names.words('male.txt')\n",
        "female_names = names.words('female.txt')\n",
        "print(f\"Male names: {len(male_names)}, Female names: {len(female_names)}\")"
      ],
      "metadata": {
        "colab": {
          "base_uri": "https://localhost:8080/"
        },
        "id": "4gRystDcec4r",
        "outputId": "05be72f9-b746-4114-f093-00c905241cc8"
      },
      "execution_count": 20,
      "outputs": [
        {
          "output_type": "stream",
          "name": "stdout",
          "text": [
            "Male names: 2943, Female names: 5001\n"
          ]
        }
      ]
    },
    {
      "cell_type": "code",
      "source": [
        "sampled_names = random.sample(male_names, 8) + random.sample(female_names, 7)\n",
        "random.shuffle(sampled_names)\n",
        "for name in sampled_names:\n",
        "    print(f\"{name}: {'Male' if name in male_names else 'Female'}\")"
      ],
      "metadata": {
        "colab": {
          "base_uri": "https://localhost:8080/"
        },
        "id": "SP_GMVcFe39R",
        "outputId": "e5d7ae8c-1cd1-460b-d0d9-1fd57eaa1f83"
      },
      "execution_count": 21,
      "outputs": [
        {
          "output_type": "stream",
          "name": "stdout",
          "text": [
            "Gianna: Female\n",
            "Dorelia: Female\n",
            "Cassaundra: Female\n",
            "Avi: Male\n",
            "Eliott: Male\n",
            "Karsten: Male\n",
            "Arabella: Female\n",
            "Nettie: Female\n",
            "Filmore: Male\n",
            "Ambros: Male\n",
            "Liam: Male\n",
            "Magnum: Male\n",
            "Tamera: Female\n",
            "Melly: Female\n",
            "Thatch: Male\n"
          ]
        }
      ]
    },
    {
      "cell_type": "code",
      "source": [
        "def extract_last_letter(names_list):\n",
        "    return {name: name[-1] for name in names_list}\n",
        "\n",
        "print(extract_last_letter([\"John\", \"Emily\", \"Alex\", \"Sophie\"]))"
      ],
      "metadata": {
        "colab": {
          "base_uri": "https://localhost:8080/"
        },
        "id": "SJ_93ZKhe6Er",
        "outputId": "920e8cba-60c5-4d97-d77a-a4c106d0257b"
      },
      "execution_count": 22,
      "outputs": [
        {
          "output_type": "stream",
          "name": "stdout",
          "text": [
            "{'John': 'n', 'Emily': 'y', 'Alex': 'x', 'Sophie': 'e'}\n"
          ]
        }
      ]
    }
  ]
}